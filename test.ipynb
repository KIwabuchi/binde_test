{
 "cells": [
  {
   "cell_type": "code",
   "execution_count": null,
   "id": "instant-cambodia",
   "metadata": {},
   "outputs": [],
   "source": [
    "from clippy import Clippy"
   ]
  },
  {
   "cell_type": "code",
   "execution_count": null,
   "id": "written-humor",
   "metadata": {},
   "outputs": [],
   "source": [
    "c = Clippy({'examples': '/tmp/clippy/clippy-cpp/build/examples'}, cmd_prefix='', loglevel=0)\n",
    "c.examples.howdy('Me')"
   ]
  },
  {
   "cell_type": "code",
   "execution_count": null,
   "id": "worthy-proof",
   "metadata": {},
   "outputs": [],
   "source": []
  }
 ],
 "metadata": {
  "kernelspec": {
   "display_name": "Python 3",
   "language": "python",
   "name": "python3"
  },
  "language_info": {
   "codemirror_mode": {
    "name": "ipython",
    "version": 3
   },
   "file_extension": ".py",
   "mimetype": "text/x-python",
   "name": "python",
   "nbconvert_exporter": "python",
   "pygments_lexer": "ipython3",
   "version": "3.8.8"
  }
 },
 "nbformat": 4,
 "nbformat_minor": 5
}
