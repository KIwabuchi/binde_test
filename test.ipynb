from clippy import Clippy
c = Clippy({'examples': '/tmp/clippy/clippy-cpp/build/examples'}, cmd_prefix='', loglevel=0)
c.examples.howdy('Me')
